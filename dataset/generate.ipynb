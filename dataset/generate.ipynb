{
 "cells": [
  {
   "cell_type": "code",
   "execution_count": 4,
   "metadata": {},
   "outputs": [],
   "source": [
    "from selenium import webdriver\n",
    "from selenium.webdriver.common.keys import Keys\n",
    "import os\n",
    "from pathlib import Path\n",
    "from selenium.webdriver.chrome.options import Options  \n",
    "\n",
    "# chrome_options = Options()  \n",
    "# chrome_options.add_argument(\"--headless\")  \n",
    "\n",
    "# driver = webdriver.Chrome(executable_path=os.getcwd()+'/chromedriver', options=chrome_options)\n",
    "# driver.get('http://localhost:4200')\n",
    "\n",
    "# driver.set_window_size(1920*1.5,1080*1.5)\n",
    "\n",
    "# driver.execute_script(\"document.body.style.zoom='150%'\")\n",
    "# driver.save_screenshot('high_res_img.png')\n",
    "\n",
    "# body_element = driver.find_element_by_tag_name('body')\n",
    "# body_element.click()\n",
    "# driver.save_screenshot('high_res_img_label.png')\n",
    "# driver.quit()"
   ]
  },
  {
   "cell_type": "code",
   "execution_count": 16,
   "metadata": {},
   "outputs": [],
   "source": [
    "import os\n",
    "\n",
    "class DocumentGenerator:\n",
    "    def __init__(self, driver, dataset_path='dataset'):\n",
    "        self.driver = driver\n",
    "        self.data_path = Path(dataset_path) / 'img'\n",
    "        self.mask_path = Path(dataset_path) / 'mask'\n",
    "        \n",
    "    def _generate_single(self,\n",
    "                 filename,\n",
    "                 url='http://localhost:4200', \n",
    "                 window_width=1920, \n",
    "                 window_height=1080, \n",
    "                 scale_factor=1.5):\n",
    "                 \n",
    "        self.driver.get(url)\n",
    "        self.driver.set_window_size(window_width * scale_factor,\n",
    "                               window_height * scale_factor)\n",
    "        self.driver.execute_script(\"document.body.style.zoom='{}%'\".format(scale_factor * 100))\n",
    "        self.driver.save_screenshot(str(self.data_path / filename))\n",
    "\n",
    "        body_element = self.driver.find_element_by_tag_name('body')\n",
    "        body_element.click()\n",
    "        self.driver.save_screenshot(str(self.mask_path / filename))\n",
    "    \n",
    "    def _make_dirs(self):\n",
    "        os.makedirs(str(self.data_path), exist_ok=True)\n",
    "        os.makedirs(str(self.mask_path), exist_ok=True)\n",
    "    \n",
    "    def generate(self,\n",
    "                 n_samples,\n",
    "                 url='http://localhost:4200', \n",
    "                 window_width=1920, \n",
    "                 window_height=1080, \n",
    "                 scale_factor=1.5):\n",
    "        \n",
    "        self._make_dirs()\n",
    "        for idx in range(n_samples):\n",
    "            self._generate_single('%s.png' % idx,\n",
    "                 url, window_width, \n",
    "                 window_height, scale_factor)\n",
    "    \n",
    "    def __enter__(self):\n",
    "        return self\n",
    "    \n",
    "    def __exit__(self, exc_type, exc_val, exc_tb):\n",
    "        self.driver.quit()"
   ]
  },
  {
   "cell_type": "code",
   "execution_count": 20,
   "metadata": {
    "scrolled": false
   },
   "outputs": [],
   "source": [
    "chrome_options = Options()  \n",
    "chrome_options.add_argument(\"--headless\")  \n",
    "\n",
    "driver = webdriver.Chrome(executable_path=os.getcwd()+'/chromedriver', options=chrome_options)\n",
    "\n",
    "document_gen = DocumentGenerator(driver)\n",
    "with document_gen as dg:\n",
    "    dg.generate(10)"
   ]
  },
  {
   "cell_type": "code",
   "execution_count": 2,
   "metadata": {},
   "outputs": [
    {
     "name": "stdout",
     "output_type": "stream",
     "text": [
      "Python 3.6.7\r\n"
     ]
    }
   ],
   "source": []
  },
  {
   "cell_type": "code",
   "execution_count": 17,
   "metadata": {},
   "outputs": [
    {
     "ename": "ImportError",
     "evalue": "/opt/ros/kinetic/lib/python2.7/dist-packages/cv2.so: undefined symbol: PyCObject_Type",
     "output_type": "error",
     "traceback": [
      "\u001b[0;31m---------------------------------------------------------------------------\u001b[0m",
      "\u001b[0;31mImportError\u001b[0m                               Traceback (most recent call last)",
      "\u001b[0;32m<ipython-input-17-c8ec22b3e787>\u001b[0m in \u001b[0;36m<module>\u001b[0;34m()\u001b[0m\n\u001b[0;32m----> 1\u001b[0;31m \u001b[0;32mimport\u001b[0m \u001b[0mcv2\u001b[0m\u001b[0;34m\u001b[0m\u001b[0m\n\u001b[0m",
      "\u001b[0;31mImportError\u001b[0m: /opt/ros/kinetic/lib/python2.7/dist-packages/cv2.so: undefined symbol: PyCObject_Type"
     ]
    }
   ],
   "source": []
  },
  {
   "cell_type": "code",
   "execution_count": null,
   "metadata": {},
   "outputs": [],
   "source": []
  }
 ],
 "metadata": {
  "kernelspec": {
   "display_name": "testenv",
   "language": "python",
   "name": "testenv"
  },
  "language_info": {
   "codemirror_mode": {
    "name": "ipython",
    "version": 3
   },
   "file_extension": ".py",
   "mimetype": "text/x-python",
   "name": "python",
   "nbconvert_exporter": "python",
   "pygments_lexer": "ipython3",
   "version": "3.5.2"
  }
 },
 "nbformat": 4,
 "nbformat_minor": 2
}
