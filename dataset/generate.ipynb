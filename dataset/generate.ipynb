{
 "cells": [
  {
   "cell_type": "code",
   "execution_count": 43,
   "metadata": {},
   "outputs": [],
   "source": [
    "from selenium import webdriver\n",
    "from selenium.webdriver.common.keys import Keys\n",
    "import os\n",
    "from pathlib2 import Path\n",
    "from selenium.webdriver.chrome.options import Options  \n",
    "\n",
    "chrome_options = Options()  \n",
    "chrome_options.add_argument(\"--headless\")  \n",
    "\n",
    "driver = webdriver.Chrome(executable_path=os.getcwd()+'/chromedriver', options=chrome_options)\n",
    "driver.get('http://localhost:4200')\n",
    "\n",
    "driver.set_window_size(1920*2.5,1080*2.5)\n",
    "\n",
    "driver.execute_script(\"document.body.style.zoom='250%'\")\n",
    "driver.save_screenshot('welcome_icons.png')\n",
    "browser.quit()"
   ]
  },
  {
   "cell_type": "code",
   "execution_count": 42,
   "metadata": {},
   "outputs": [],
   "source": [
    "webdriver.Chrome?"
   ]
  },
  {
   "cell_type": "code",
   "execution_count": 31,
   "metadata": {},
   "outputs": [
    {
     "name": "stdout",
     "output_type": "stream",
     "text": [
      "Collecting pillow\n",
      "\u001b[33m  Cache entry deserialization failed, entry ignored\u001b[0m\n",
      "  Downloading https://files.pythonhosted.org/packages/12/ad/61f8dfba88c4e56196bf6d056cdbba64dc9c5dfdfbc97d02e6472feed913/Pillow-6.2.2-cp27-cp27mu-manylinux1_x86_64.whl (2.1MB)\n",
      "\u001b[K    100% |████████████████████████████████| 2.1MB 392kB/s eta 0:00:01\n",
      "\u001b[?25hInstalling collected packages: pillow\n",
      "Successfully installed pillow-6.2.2\n"
     ]
    }
   ],
   "source": [
    "# !npm install phantomjs\n",
    "!pip install pillow"
   ]
  },
  {
   "cell_type": "code",
   "execution_count": 41,
   "metadata": {},
   "outputs": [],
   "source": [
    "import StringIO\n",
    "from selenium import webdriver\n",
    "from PIL import Image\n",
    "\n",
    "\n",
    "# Install instructions\n",
    "#\n",
    "# npm install phantomjs\n",
    "# sudo apt-get install libjpeg-dev\n",
    "# pip install selenium pillow\n",
    "\n",
    "\n",
    "driver = webdriver.PhantomJS(executable_path=\"node_modules/phantomjs/bin/phantomjs\")\n",
    "driver.set_window_size(1920*2.5,1080*2.5) # optional\n",
    "driver.get('127.0.0.1:3000/content')\n",
    "from time import sleep\n",
    "sleep(1)\n",
    "driver.execute_script(\"document.body.style.zoom='250%'\")\n",
    "driver.save_screenshot('screen_hires.png')\n",
    "\n",
    "screen = driver.get_screenshot_as_png()\n",
    "\n",
    "# Crop it back to the window size (it may be taller)\n",
    "box = (0, 0, 1366, 728)\n",
    "im = Image.open(StringIO.StringIO(screen))\n",
    "region = im.crop(box)\n",
    "region.save('screen_lores.jpg', 'PNG', optimize=True, quality=95)"
   ]
  },
  {
   "cell_type": "code",
   "execution_count": null,
   "metadata": {},
   "outputs": [],
   "source": []
  }
 ],
 "metadata": {
  "kernelspec": {
   "display_name": ".dataenv",
   "language": "python",
   "name": ".dataenv"
  },
  "language_info": {
   "codemirror_mode": {
    "name": "ipython",
    "version": 2
   },
   "file_extension": ".py",
   "mimetype": "text/x-python",
   "name": "python",
   "nbconvert_exporter": "python",
   "pygments_lexer": "ipython2",
   "version": "2.7.15+"
  }
 },
 "nbformat": 4,
 "nbformat_minor": 2
}
